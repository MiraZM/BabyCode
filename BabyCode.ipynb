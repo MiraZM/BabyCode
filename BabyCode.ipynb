{
  "cells": [
    {
      "cell_type": "markdown",
      "source": [
        "#Import Libraries"
      ],
      "metadata": {
        "id": "87d6UmV5X8-O"
      }
    },
    {
      "cell_type": "code",
      "execution_count": null,
      "metadata": {
        "id": "OBFNY-kJdPJs"
      },
      "outputs": [],
      "source": [
        "import librosa\n",
        "import numpy as np\n",
        "import pandas as pd\n",
        "import os\n",
        "from sklearn.model_selection import train_test_split\n",
        "from sklearn.preprocessing import LabelEncoder\n",
        "from sklearn.svm import SVC\n",
        "from keras.models import Sequential\n",
        "from keras.layers import Conv1D, MaxPooling1D, Flatten, Dense\n",
        "from keras.models import load_model\n",
        "from sklearn.feature_selection import SelectKBest, f_classif"
      ]
    },
    {
      "cell_type": "markdown",
      "source": [
        "##Initiate main settings"
      ],
      "metadata": {
        "id": "yZ8UBMIZadAy"
      }
    },
    {
      "cell_type": "code",
      "execution_count": null,
      "metadata": {
        "id": "m-IUEi5jdPGJ"
      },
      "outputs": [],
      "source": [
        "n_mfcc = 40\n",
        "n_fft = 1024  # setting the FFT size to 1024\n",
        "hop_length = 10*16 # 25ms*16khz samples has been taken\n",
        "win_length = 25*16 #25ms*16khz samples has been taken for window length\n",
        "window = 'hann' #hann window used\n",
        "n_chroma=12\n",
        "n_mels=128\n",
        "n_bands=7 #we are extracting the 7 features out of the spectral contrast\n",
        "fmin=100\n",
        "bins_per_ocatve=12"
      ]
    },
    {
      "cell_type": "markdown",
      "source": [
        "#Upload data and extract features"
      ],
      "metadata": {
        "id": "cdio9mvrammg"
      }
    },
    {
      "cell_type": "code",
      "execution_count": null,
      "metadata": {
        "colab": {
          "base_uri": "https://localhost:8080/"
        },
        "id": "UyX6LPQ0dPD2",
        "outputId": "b32809ad-b657-42af-ffac-9fdb9d02762b"
      },
      "outputs": [
        {
          "output_type": "stream",
          "name": "stdout",
          "text": [
            "hungry data is loading.....\n",
            "hungry data loaded....\n",
            "tired data is loading.....\n",
            "tired data loaded....\n",
            "burping data is loading.....\n",
            "burping data loaded....\n",
            "discomfort data is loading.....\n",
            "discomfort data loaded....\n",
            "belly_pain data is loading.....\n",
            "belly_pain data loaded....\n"
          ]
        }
      ],
      "source": [
        "# define function to extract features\n",
        "def extract_features(file_path):\n",
        "    try:\n",
        "          # Load audio file and extract features\n",
        "          y, sr = librosa.load(file_path, sr=16000)\n",
        "          mfcc = np.mean(librosa.feature.mfcc(y=y, sr=sr, n_mfcc=40,n_fft=n_fft,hop_length=hop_length,win_length=win_length,window=window).T,axis=0)\n",
        "          mel = np.mean(librosa.feature.melspectrogram(y=y, sr=sr,n_fft=n_fft, hop_length=hop_length, win_length=win_length, window='hann',n_mels=n_mels).T,axis=0)\n",
        "          stft = np.abs(librosa.stft(y))\n",
        "          chroma = np.mean(librosa.feature.chroma_stft(S=stft, y=y, sr=sr).T,axis=0)\n",
        "          contrast = np.mean(librosa.feature.spectral_contrast(S=stft, y=y, sr=sr,n_fft=n_fft,\n",
        "                                                        hop_length=hop_length, win_length=win_length,\n",
        "                                                        n_bands=n_bands, fmin=fmin).T,axis=0)\n",
        "          tonnetz =np.mean(librosa.feature.tonnetz(y=y, sr=sr).T,axis=0)\n",
        "          features = np.concatenate((mfcc, chroma, mel, contrast, tonnetz))\n",
        "          # print(shape(features))\n",
        "          return features\n",
        "    except:\n",
        "        print(\"Error: Exception occurred in feature extraction\")\n",
        "    return None\n",
        "\n",
        "# define path to data directory\n",
        "path = '/content/drive/MyDrive/NLP/donateacry-corpus/donateacry_corpus_cleaned_and_updated_data' #Provide your path here\n",
        "# initialize empty lists to hold extracted features and labels\n",
        "features = []\n",
        "labels = []\n",
        "\n",
        "# loop through the directories\n",
        "for label in os.listdir(path):\n",
        "    # loop through the files in each directory\n",
        "    print(f\"{label} data is loading.....\")\n",
        "    for file_name in os.listdir(os.path.join(path, label)):\n",
        "        file_path = os.path.join(path, label, file_name)\n",
        "        # extract features and append to list\n",
        "        feature = extract_features(file_path)\n",
        "        if feature is not None:\n",
        "            features.append(feature)\n",
        "            labels.append(label)\n",
        "    print(f\"{label} data loaded....\")"
      ]
    },
    {
      "cell_type": "code",
      "source": [
        "#Encoding results\n",
        "'''\n",
        "hungry :4\n",
        "tired :3\n",
        "burping :2\n",
        "discomfert : 1\n",
        "belly pain: 0\n",
        "'''"
      ],
      "metadata": {
        "id": "XnwlxZcYWw_C"
      },
      "execution_count": null,
      "outputs": []
    },
    {
      "cell_type": "code",
      "source": [
        "# convert features and labels to numpy arrays\n",
        "features = np.array(features)\n",
        "labels = np.array(labels)\n",
        "selector = SelectKBest(score_func=f_classif, k=10)  # Select top 10 features\n",
        "le = LabelEncoder()\n",
        "labels = le.fit_transform(labels)\n",
        "features_selected = selector.fit_transform(features, labels)\n",
        "# Split data into training and testing sets\n",
        "X_train, X_test, y_train, y_test = train_test_split(features_selected, labels, test_size=0.25, random_state=42)"
      ],
      "metadata": {
        "id": "8ZFxYcZdaBoN"
      },
      "execution_count": null,
      "outputs": []
    },
    {
      "cell_type": "markdown",
      "source": [
        "#CNN model"
      ],
      "metadata": {
        "id": "umGYJqena0Qk"
      }
    },
    {
      "cell_type": "code",
      "execution_count": null,
      "metadata": {
        "colab": {
          "base_uri": "https://localhost:8080/"
        },
        "id": "zR5BCuPK0fYt",
        "outputId": "1673f2d8-baa5-4382-a2e7-20875ef55e0b"
      },
      "outputs": [
        {
          "output_type": "stream",
          "name": "stdout",
          "text": [
            "Epoch 1/100\n",
            "50/50 [==============================] - 1s 4ms/step - loss: 1.9271 - accuracy: 0.7536\n",
            "Epoch 2/100\n",
            "50/50 [==============================] - 0s 4ms/step - loss: 0.7191 - accuracy: 0.8223\n",
            "Epoch 3/100\n",
            "50/50 [==============================] - 0s 4ms/step - loss: 0.6578 - accuracy: 0.8252\n",
            "Epoch 4/100\n",
            "50/50 [==============================] - 0s 4ms/step - loss: 0.5946 - accuracy: 0.8453\n",
            "Epoch 5/100\n",
            "50/50 [==============================] - 0s 5ms/step - loss: 0.5500 - accuracy: 0.8223\n",
            "Epoch 6/100\n",
            "50/50 [==============================] - 0s 4ms/step - loss: 0.5725 - accuracy: 0.8424\n",
            "Epoch 7/100\n",
            "50/50 [==============================] - 0s 4ms/step - loss: 0.8794 - accuracy: 0.8166\n",
            "Epoch 8/100\n",
            "50/50 [==============================] - 0s 4ms/step - loss: 0.5389 - accuracy: 0.8596\n",
            "Epoch 9/100\n",
            "50/50 [==============================] - 0s 4ms/step - loss: 0.5094 - accuracy: 0.8711\n",
            "Epoch 10/100\n",
            "50/50 [==============================] - 0s 5ms/step - loss: 0.4095 - accuracy: 0.8711\n",
            "Epoch 11/100\n",
            "50/50 [==============================] - 0s 4ms/step - loss: 0.4236 - accuracy: 0.8739\n",
            "Epoch 12/100\n",
            "50/50 [==============================] - 0s 4ms/step - loss: 0.3876 - accuracy: 0.8825\n",
            "Epoch 13/100\n",
            "50/50 [==============================] - 0s 4ms/step - loss: 0.4729 - accuracy: 0.8797\n",
            "Epoch 14/100\n",
            "50/50 [==============================] - 0s 4ms/step - loss: 0.4208 - accuracy: 0.8625\n",
            "Epoch 15/100\n",
            "50/50 [==============================] - 0s 4ms/step - loss: 0.3857 - accuracy: 0.8739\n",
            "Epoch 16/100\n",
            "50/50 [==============================] - 0s 5ms/step - loss: 0.5011 - accuracy: 0.8711\n",
            "Epoch 17/100\n",
            "50/50 [==============================] - 0s 7ms/step - loss: 0.3922 - accuracy: 0.8883\n",
            "Epoch 18/100\n",
            "50/50 [==============================] - 0s 7ms/step - loss: 0.3557 - accuracy: 0.8825\n",
            "Epoch 19/100\n",
            "50/50 [==============================] - 0s 7ms/step - loss: 0.3593 - accuracy: 0.8825\n",
            "Epoch 20/100\n",
            "50/50 [==============================] - 0s 7ms/step - loss: 0.3316 - accuracy: 0.8854\n",
            "Epoch 21/100\n",
            "50/50 [==============================] - 0s 8ms/step - loss: 0.3699 - accuracy: 0.8911\n",
            "Epoch 22/100\n",
            "50/50 [==============================] - 0s 8ms/step - loss: 0.4087 - accuracy: 0.8911\n",
            "Epoch 23/100\n",
            "50/50 [==============================] - 0s 8ms/step - loss: 0.5344 - accuracy: 0.8567\n",
            "Epoch 24/100\n",
            "50/50 [==============================] - 0s 8ms/step - loss: 0.3000 - accuracy: 0.8940\n",
            "Epoch 25/100\n",
            "50/50 [==============================] - 0s 8ms/step - loss: 0.3006 - accuracy: 0.8940\n",
            "Epoch 26/100\n",
            "50/50 [==============================] - 0s 8ms/step - loss: 0.2996 - accuracy: 0.8911\n",
            "Epoch 27/100\n",
            "50/50 [==============================] - 0s 8ms/step - loss: 0.2819 - accuracy: 0.9026\n",
            "Epoch 28/100\n",
            "50/50 [==============================] - 0s 8ms/step - loss: 0.2633 - accuracy: 0.9255\n",
            "Epoch 29/100\n",
            "50/50 [==============================] - 0s 8ms/step - loss: 0.2648 - accuracy: 0.9140\n",
            "Epoch 30/100\n",
            "50/50 [==============================] - 0s 7ms/step - loss: 0.3376 - accuracy: 0.8940\n",
            "Epoch 31/100\n",
            "50/50 [==============================] - 0s 4ms/step - loss: 0.3237 - accuracy: 0.9083\n",
            "Epoch 32/100\n",
            "50/50 [==============================] - 0s 4ms/step - loss: 0.1943 - accuracy: 0.9398\n",
            "Epoch 33/100\n",
            "50/50 [==============================] - 0s 4ms/step - loss: 0.3087 - accuracy: 0.9083\n",
            "Epoch 34/100\n",
            "50/50 [==============================] - 0s 4ms/step - loss: 0.2376 - accuracy: 0.9140\n",
            "Epoch 35/100\n",
            "50/50 [==============================] - 0s 4ms/step - loss: 0.2288 - accuracy: 0.9341\n",
            "Epoch 36/100\n",
            "50/50 [==============================] - 0s 4ms/step - loss: 0.2577 - accuracy: 0.9140\n",
            "Epoch 37/100\n",
            "50/50 [==============================] - 0s 4ms/step - loss: 0.2116 - accuracy: 0.9255\n",
            "Epoch 38/100\n",
            "50/50 [==============================] - 0s 4ms/step - loss: 0.2289 - accuracy: 0.9341\n",
            "Epoch 39/100\n",
            "50/50 [==============================] - 0s 5ms/step - loss: 0.1886 - accuracy: 0.9312\n",
            "Epoch 40/100\n",
            "50/50 [==============================] - 0s 4ms/step - loss: 0.1963 - accuracy: 0.9341\n",
            "Epoch 41/100\n",
            "50/50 [==============================] - 0s 4ms/step - loss: 0.2200 - accuracy: 0.9341\n",
            "Epoch 42/100\n",
            "50/50 [==============================] - 0s 4ms/step - loss: 0.2242 - accuracy: 0.9341\n",
            "Epoch 43/100\n",
            "50/50 [==============================] - 0s 4ms/step - loss: 0.2293 - accuracy: 0.9312\n",
            "Epoch 44/100\n",
            "50/50 [==============================] - 0s 4ms/step - loss: 0.2140 - accuracy: 0.9341\n",
            "Epoch 45/100\n",
            "50/50 [==============================] - 0s 4ms/step - loss: 0.1622 - accuracy: 0.9513\n",
            "Epoch 46/100\n",
            "50/50 [==============================] - 0s 4ms/step - loss: 0.1828 - accuracy: 0.9456\n",
            "Epoch 47/100\n",
            "50/50 [==============================] - 0s 5ms/step - loss: 0.1772 - accuracy: 0.9427\n",
            "Epoch 48/100\n",
            "50/50 [==============================] - 0s 4ms/step - loss: 0.1892 - accuracy: 0.9427\n",
            "Epoch 49/100\n",
            "50/50 [==============================] - 0s 4ms/step - loss: 0.1567 - accuracy: 0.9540\n",
            "Epoch 50/100\n",
            "50/50 [==============================] - 0s 4ms/step - loss: 0.1435 - accuracy: 0.9656\n",
            "Epoch 51/100\n",
            "50/50 [==============================] - 0s 4ms/step - loss: 0.1512 - accuracy: 0.9398\n",
            "Epoch 52/100\n",
            "50/50 [==============================] - 0s 5ms/step - loss: 0.1562 - accuracy: 0.9542\n",
            "Epoch 53/100\n",
            "50/50 [==============================] - 0s 4ms/step - loss: 0.1543 - accuracy: 0.9398\n",
            "Epoch 54/100\n",
            "50/50 [==============================] - 0s 4ms/step - loss: 0.1270 - accuracy: 0.9628\n",
            "Epoch 55/100\n",
            "50/50 [==============================] - 0s 4ms/step - loss: 0.1180 - accuracy: 0.9542\n",
            "Epoch 56/100\n",
            "50/50 [==============================] - 0s 4ms/step - loss: 0.1736 - accuracy: 0.9398\n",
            "Epoch 57/100\n",
            "50/50 [==============================] - 0s 4ms/step - loss: 0.1110 - accuracy: 0.9656\n",
            "Epoch 58/100\n",
            "50/50 [==============================] - 0s 4ms/step - loss: 0.1685 - accuracy: 0.9427\n",
            "Epoch 59/100\n",
            "50/50 [==============================] - 0s 4ms/step - loss: 0.1188 - accuracy: 0.9542\n",
            "Epoch 60/100\n",
            "50/50 [==============================] - 0s 4ms/step - loss: 0.1745 - accuracy: 0.9427\n",
            "Epoch 61/100\n",
            "50/50 [==============================] - 0s 4ms/step - loss: 0.1308 - accuracy: 0.9628\n",
            "Epoch 62/100\n",
            "50/50 [==============================] - 0s 4ms/step - loss: 0.1093 - accuracy: 0.9628\n",
            "Epoch 63/100\n",
            "50/50 [==============================] - 0s 4ms/step - loss: 0.1046 - accuracy: 0.9656\n",
            "Epoch 64/100\n",
            "50/50 [==============================] - 0s 4ms/step - loss: 0.1780 - accuracy: 0.9370\n",
            "Epoch 65/100\n",
            "50/50 [==============================] - 0s 4ms/step - loss: 0.1555 - accuracy: 0.9513\n",
            "Epoch 66/100\n",
            "50/50 [==============================] - 0s 4ms/step - loss: 0.0940 - accuracy: 0.9742\n",
            "Epoch 67/100\n",
            "50/50 [==============================] - 0s 4ms/step - loss: 0.0990 - accuracy: 0.9656\n",
            "Epoch 68/100\n",
            "50/50 [==============================] - 0s 4ms/step - loss: 0.1059 - accuracy: 0.9570\n",
            "Epoch 69/100\n",
            "50/50 [==============================] - 0s 4ms/step - loss: 0.0706 - accuracy: 0.9799\n",
            "Epoch 70/100\n",
            "50/50 [==============================] - 0s 4ms/step - loss: 0.0960 - accuracy: 0.9656\n",
            "Epoch 71/100\n",
            "50/50 [==============================] - 0s 5ms/step - loss: 0.1117 - accuracy: 0.9685\n",
            "Epoch 72/100\n",
            "50/50 [==============================] - 0s 4ms/step - loss: 0.0911 - accuracy: 0.9713\n",
            "Epoch 73/100\n",
            "50/50 [==============================] - 0s 4ms/step - loss: 0.1314 - accuracy: 0.9513\n",
            "Epoch 74/100\n",
            "50/50 [==============================] - 0s 4ms/step - loss: 0.0613 - accuracy: 0.9828\n",
            "Epoch 75/100\n",
            "50/50 [==============================] - 0s 4ms/step - loss: 0.0608 - accuracy: 0.9885\n",
            "Epoch 76/100\n",
            "50/50 [==============================] - 0s 4ms/step - loss: 0.0745 - accuracy: 0.9771\n",
            "Epoch 77/100\n",
            "50/50 [==============================] - 0s 6ms/step - loss: 0.0496 - accuracy: 0.9857\n",
            "Epoch 78/100\n",
            "50/50 [==============================] - 0s 8ms/step - loss: 0.0376 - accuracy: 0.9971\n",
            "Epoch 79/100\n",
            "50/50 [==============================] - 0s 8ms/step - loss: 0.0479 - accuracy: 0.9857\n",
            "Epoch 80/100\n",
            "50/50 [==============================] - 0s 9ms/step - loss: 0.1014 - accuracy: 0.9599\n",
            "Epoch 81/100\n",
            "50/50 [==============================] - 0s 9ms/step - loss: 0.1722 - accuracy: 0.9341\n",
            "Epoch 82/100\n",
            "50/50 [==============================] - 0s 8ms/step - loss: 0.2629 - accuracy: 0.9112\n",
            "Epoch 83/100\n",
            "50/50 [==============================] - 0s 8ms/step - loss: 0.1347 - accuracy: 0.9456\n",
            "Epoch 84/100\n",
            "50/50 [==============================] - 0s 8ms/step - loss: 0.0912 - accuracy: 0.9771\n",
            "Epoch 85/100\n",
            "50/50 [==============================] - 0s 8ms/step - loss: 0.0850 - accuracy: 0.9685\n",
            "Epoch 86/100\n",
            "50/50 [==============================] - 0s 8ms/step - loss: 0.0675 - accuracy: 0.9771\n",
            "Epoch 87/100\n",
            "50/50 [==============================] - 0s 8ms/step - loss: 0.0621 - accuracy: 0.9857\n",
            "Epoch 88/100\n",
            "50/50 [==============================] - 0s 8ms/step - loss: 0.0467 - accuracy: 0.9885\n",
            "Epoch 89/100\n",
            "50/50 [==============================] - 0s 8ms/step - loss: 0.0528 - accuracy: 0.9828\n",
            "Epoch 90/100\n",
            "50/50 [==============================] - 0s 8ms/step - loss: 0.0410 - accuracy: 0.9943\n",
            "Epoch 91/100\n",
            "50/50 [==============================] - 0s 8ms/step - loss: 0.0408 - accuracy: 0.9914\n",
            "Epoch 92/100\n",
            "50/50 [==============================] - 0s 4ms/step - loss: 0.1399 - accuracy: 0.9570\n",
            "Epoch 93/100\n",
            "50/50 [==============================] - 0s 4ms/step - loss: 0.1325 - accuracy: 0.9628\n",
            "Epoch 94/100\n",
            "50/50 [==============================] - 0s 4ms/step - loss: 0.0435 - accuracy: 0.9971\n",
            "Epoch 95/100\n",
            "50/50 [==============================] - 0s 4ms/step - loss: 0.0492 - accuracy: 0.9828\n",
            "Epoch 96/100\n",
            "50/50 [==============================] - 0s 4ms/step - loss: 0.0598 - accuracy: 0.9771\n",
            "Epoch 97/100\n",
            "50/50 [==============================] - 0s 4ms/step - loss: 0.0294 - accuracy: 0.9971\n",
            "Epoch 98/100\n",
            "50/50 [==============================] - 0s 4ms/step - loss: 0.0341 - accuracy: 0.9885\n",
            "Epoch 99/100\n"
          ]
        },
        {
          "output_type": "stream",
          "name": "stderr",
          "text": [
            "WARNING:tensorflow:Your input ran out of data; interrupting training. Make sure that your dataset or generator can generate at least `steps_per_epoch * epochs` batches (in this case, 5000 batches). You may need to use the repeat() function when building your dataset.\n"
          ]
        },
        {
          "output_type": "stream",
          "name": "stdout",
          "text": [
            "\r50/50 [==============================] - 0s 835us/step - loss: 0.0000e+00 - accuracy: 0.0000e+00\n",
            "CNN Accuracy: 0.730434775352478\n"
          ]
        }
      ],
      "source": [
        "from keras.models import Sequential\n",
        "from keras.layers import Conv1D, MaxPooling1D, Flatten, Dense\n",
        "\n",
        "# reshape data for 1D CNN\n",
        "X_train = X_train.reshape(X_train.shape[0], X_train.shape[1], 1)\n",
        "X_test = X_test.reshape(X_test.shape[0], X_test.shape[1], 1)\n",
        "\n",
        "# create a Sequential model\n",
        "model = Sequential()\n",
        "\n",
        "# add Convolutional layers\n",
        "model.add(Conv1D(32, kernel_size=3, activation='relu', input_shape=(X_train.shape[1], 1)))\n",
        "model.add(MaxPooling1D(pool_size=2))\n",
        "model.add(Flatten())\n",
        "\n",
        "# add Dense layers\n",
        "model.add(Dense(50, activation='relu'))\n",
        "model.add(Dense(len(np.unique(y_train)), activation='softmax'))  # number of unique labels\n",
        "\n",
        "# compile the model\n",
        "model.compile(optimizer='adam', loss='sparse_categorical_crossentropy', metrics=['accuracy'])\n",
        "\n",
        "batch_size = 64  # you can set this value as per your requirement\n",
        "steps_per_epoch = 50\n",
        "\n",
        "# train the model\n",
        "model.fit(X_train, y_train, epochs=100, steps_per_epoch=steps_per_epoch)\n",
        "# evaluate the model\n",
        "cnn_acc = model.evaluate(X_test, y_test, verbose=0)[1]\n",
        "print(\"CNN Accuracy:\", cnn_acc)"
      ]
    },
    {
      "cell_type": "code",
      "source": [
        "#validation accuracy and loss\n",
        "model.fit(X_test, y_test)"
      ],
      "metadata": {
        "colab": {
          "base_uri": "https://localhost:8080/"
        },
        "id": "3RVRdqQUrqKS",
        "outputId": "0d6465ab-eb6c-4092-f825-5166b53d92c8"
      },
      "execution_count": null,
      "outputs": [
        {
          "output_type": "stream",
          "name": "stdout",
          "text": [
            "4/4 [==============================] - 0s 16ms/step - loss: 0.3185 - accuracy: 0.8609\n"
          ]
        },
        {
          "output_type": "execute_result",
          "data": {
            "text/plain": [
              "<keras.src.callbacks.History at 0x7a7e42f9ed40>"
            ]
          },
          "metadata": {},
          "execution_count": 33
        }
      ]
    },
    {
      "cell_type": "code",
      "source": [
        "model.evaluate(X_test, y_test, verbose=0)[1]"
      ],
      "metadata": {
        "colab": {
          "base_uri": "https://localhost:8080/"
        },
        "id": "SeX7QPIxI2GU",
        "outputId": "27a16ce1-b4c0-45c5-cd7a-164ac44cd841"
      },
      "execution_count": null,
      "outputs": [
        {
          "output_type": "execute_result",
          "data": {
            "text/plain": [
              "0.8608695864677429"
            ]
          },
          "metadata": {},
          "execution_count": 34
        }
      ]
    },
    {
      "cell_type": "code",
      "source": [
        "# save the model\n",
        "model.save('content/drive/MyDrive/NLP/model.h5')"
      ],
      "metadata": {
        "colab": {
          "base_uri": "https://localhost:8080/"
        },
        "id": "MOUcWnL9JhCp",
        "outputId": "8645e16e-d6d6-4b3a-ded0-7f6f1f36fb55"
      },
      "execution_count": null,
      "outputs": [
        {
          "output_type": "stream",
          "name": "stderr",
          "text": [
            "/usr/local/lib/python3.10/dist-packages/keras/src/engine/training.py:3103: UserWarning: You are saving your model as an HDF5 file via `model.save()`. This file format is considered legacy. We recommend using instead the native Keras format, e.g. `model.save('my_model.keras')`.\n",
            "  saving_api.save_model(\n"
          ]
        }
      ]
    },
    {
      "cell_type": "code",
      "execution_count": null,
      "metadata": {
        "id": "D28Fuo9HeK5m"
      },
      "outputs": [],
      "source": [
        "loaded_model = load_model('/content/drive/MyDrive/NLP/model.h5')"
      ]
    },
    {
      "cell_type": "markdown",
      "source": [
        "#Testing the model"
      ],
      "metadata": {
        "id": "3pjW7LM7bI3s"
      }
    },
    {
      "cell_type": "code",
      "source": [
        "# define path to test data directory\n",
        "test_path = '/content/drive/MyDrive/NLP/final_test'\n",
        "# initialize an empty list to hold extracted features\n",
        "test_features = []\n",
        "\n",
        "# loop through the files in the directory\n",
        "print(\"Loading test data.....\")\n",
        "for file_name in os.listdir(test_path):\n",
        "    file_path = os.path.join(test_path, file_name)\n",
        "    # extract features and append to list\n",
        "    feature = extract_features(file_path)\n",
        "    if feature is not None:\n",
        "        test_features.append(feature)\n",
        "print(\"Test data loaded....\")\n",
        "\n",
        "# convert list to numpy array\n",
        "test_features = np.array(test_features)\n",
        "# use the model to make predictions\n",
        "predictions = model.predict(test_features)"
      ],
      "metadata": {
        "colab": {
          "base_uri": "https://localhost:8080/"
        },
        "id": "HHe3JvUOoLu4",
        "outputId": "ef8a6f60-b736-4466-e604-1aef42f7b97a"
      },
      "execution_count": null,
      "outputs": [
        {
          "output_type": "stream",
          "name": "stdout",
          "text": [
            "Loading test data.....\n",
            "Test data loaded....\n",
            "1/1 [==============================] - 0s 30ms/step\n"
          ]
        }
      ]
    },
    {
      "cell_type": "code",
      "source": [
        "def predict_label(features):\n",
        "    # Use the model to predict the label\n",
        "    prediction = model.predict(np.array([features]))\n",
        "    # Assuming it's a classification task, the label would be the index of the maximum value\n",
        "    label = np.argmax(prediction)\n",
        "    return label\n",
        "\n",
        "test_data_dir = '/content/drive/MyDrive/NLP/final_test/'\n",
        "\n",
        "for filename in os.listdir(test_data_dir):\n",
        "    file_path = os.path.join(test_data_dir, filename)\n",
        "    if os.path.isfile(file_path):\n",
        "        # Extract features from the audio file\n",
        "        features = extract_features(file_path)\n",
        "\n",
        "        # Predict the label using the extracted features\n",
        "        label = predict_label(features)\n",
        "\n",
        "        # Print the audio name and its predicted label\n",
        "        print(f'Audio Name: {os.path.basename(file_path)}, Predicted Label: {label}')\n",
        "    else:\n",
        "        print(f'The file {file_path} does not exist.')"
      ],
      "metadata": {
        "colab": {
          "base_uri": "https://localhost:8080/"
        },
        "id": "zQxaU7yTSUce",
        "outputId": "5101355a-7ff9-4e8a-d58b-ae3c532f2fce"
      },
      "execution_count": null,
      "outputs": [
        {
          "output_type": "stream",
          "name": "stdout",
          "text": [
            "1/1 [==============================] - 0s 31ms/step\n",
            "Audio Name: Copy of 64acb345-a61e-4ef3-a5a6-cf83c04b83f1-1430058990597-1.7-m-72-dc.wav, Predicted Label: 2\n",
            "1/1 [==============================] - 0s 31ms/step\n",
            "Audio Name: Copy of 999bf14b-e417-4b44-b746-9253f81efe38-1430844958178-1.7-m-04-ch.wav, Predicted Label: 2\n",
            "1/1 [==============================] - 0s 27ms/step\n",
            "Audio Name: Copy of 837fd072-8704-4196-9ff1-1d2c07886e55-1432429478471-1.7-m-22-dc.wav, Predicted Label: 2\n",
            "1/1 [==============================] - 0s 28ms/step\n",
            "Audio Name: Copy of 665BDF6D-2897-49F9-8AD0-978B3B2A0468-1430530218-1.0-m-26-dc.wav, Predicted Label: 2\n",
            "1/1 [==============================] - 0s 27ms/step\n",
            "Audio Name: Copy of 79FF400A-97E2-4701-987D-C7C850D5523C-1430089688-1.0-f-48-dc.wav, Predicted Label: 2\n",
            "1/1 [==============================] - 0s 26ms/step\n",
            "Audio Name: Copy of 79FF400A-97E2-4701-987D-C7C850D5523C-1430089621-1.0-f-48-dc.wav, Predicted Label: 2\n",
            "1/1 [==============================] - 0s 25ms/step\n",
            "Audio Name: Copy of 64acb345-a61e-4ef3-a5a6-cf83c04b83f1-1430059012473-1.7-m-72-dc.wav, Predicted Label: 2\n",
            "1/1 [==============================] - 0s 26ms/step\n",
            "Audio Name: Copy of 7b0e160e-0505-459e-8ecb-304d7afae9d2-1437486974312-1.7-m-04-dc.wav, Predicted Label: 2\n",
            "1/1 [==============================] - 0s 27ms/step\n",
            "Audio Name: Copy of 64acb345-a61e-4ef3-a5a6-cf83c04b83f1-1430058990597-1 (1).7-m-72-dc.wav, Predicted Label: 2\n",
            "1/1 [==============================] - 0s 26ms/step\n",
            "Audio Name: Copy of 10A40438-09AA-4A21-83B4-8119F03F7A11-1430925142-1.0-f-26-dc.wav, Predicted Label: 3\n",
            "1/1 [==============================] - 0s 26ms/step\n",
            "Audio Name: Copy of 1309B82C-F146-46F0-A723-45345AFA6EA8-1431172241-1.0-f-48-ti.wav, Predicted Label: 4\n",
            "1/1 [==============================] - 0s 26ms/step\n",
            "Audio Name: Copy of 1309B82C-F146-46F0-A723-45345AFA6EA8-1430059864-1.0-f-04-ti.wav, Predicted Label: 3\n",
            "1/1 [==============================] - 0s 27ms/step\n",
            "Audio Name: Copy of 79FF400A-97E2-4701-987D-C7C850D5523C-1430089487-1.0-f-48-ti.wav, Predicted Label: 4\n",
            "1/1 [==============================] - 0s 28ms/step\n",
            "Audio Name: Copy of 7A22229D-06C2-4AAA-9674-DE5DF1906B3A-1436891957-1.1-m-72-ti.wav, Predicted Label: 0\n",
            "1/1 [==============================] - 0s 32ms/step\n",
            "Audio Name: Copy of 7A22229D-06C2-4AAA-9674-DE5DF1906B3A-1436891944-1.1-m-72-ti.wav, Predicted Label: 4\n",
            "1/1 [==============================] - 0s 36ms/step\n",
            "Audio Name: Copy of 06c4cfa2-7fa6-4fda-91a1-ea186a4acc64-1430029246453-1.7-f-26-ti.wav, Predicted Label: 3\n",
            "1/1 [==============================] - 0s 27ms/step\n",
            "Audio Name: Copy of 06c4cfa2-7fa6-4fda-91a1-ea186a4acc64-1430029237378-1.7-f-26-ti.wav, Predicted Label: 4\n",
            "1/1 [==============================] - 0s 27ms/step\n",
            "Audio Name: Copy of 0f257dac-7d6f-4575-9192-e3b4dcd3d4ef-1430185441581-1.7-f-26-hu.wav, Predicted Label: 3\n",
            "1/1 [==============================] - 0s 26ms/step\n",
            "Audio Name: Copy of 0F4B1065-4012-47C8-88B7-ACE11B1A536E-1430038775-1.0-m-04-hu.wav, Predicted Label: 3\n",
            "1/1 [==============================] - 0s 27ms/step\n",
            "Audio Name: Copy of 0D1AD73E-4C5E-45F3-85C4-9A3CB71E8856-1430742197-1.0-m-04-hu.wav, Predicted Label: 3\n",
            "1/1 [==============================] - 0s 32ms/step\n",
            "Audio Name: Copy of 0c8f14a9-6999-485b-97a2-913c1cbf099c-1430760394426-1.7-m-26-hu.wav, Predicted Label: 4\n"
          ]
        }
      ]
    }
  ],
  "metadata": {
    "colab": {
      "provenance": []
    },
    "kernelspec": {
      "display_name": "Python 3",
      "name": "python3"
    },
    "language_info": {
      "name": "python"
    }
  },
  "nbformat": 4,
  "nbformat_minor": 0
}